{
 "cells": [
  {
   "cell_type": "code",
   "execution_count": 1,
   "metadata": {},
   "outputs": [],
   "source": [
    "import torch\n",
    "import torch.nn as nn\n",
    "import torch.optim as optim\n",
    "from torch.utils.data import Dataset, DataLoader\n",
    "import numpy as np\n",
    "from collections import defaultdict\n",
    "from det3d.models.centerpoint import CenterPointModel\n",
    "from det3d.types.pointcloud import PointCloud\n",
    "from det3d.utils import move_to_gpu\n",
    "from torchinfo import summary\n",
    "from pprint import pprint"
   ]
  },
  {
   "cell_type": "markdown",
   "metadata": {},
   "source": [
    "# 1. 定义一个Toy Dataset（与模型输出保持一致）"
   ]
  },
  {
   "cell_type": "code",
   "execution_count": 2,
   "metadata": {},
   "outputs": [],
   "source": [
    "class DummyPointCloudDataset(Dataset):\n",
    "    def __init__(self, num_samples, num_points=10000):\n",
    "        self.num_samples = num_samples\n",
    "        self.num_points = num_points\n",
    "        \n",
    "    def __len__(self):\n",
    "        return self.num_samples\n",
    "    \n",
    "    def __getitem__(self, idx):\n",
    "        # 生成点云数据 [N, 4] [x, y, z, intensity]\n",
    "        points = np.random.rand(self.num_points, 4).astype(np.float32)\n",
    "        pc = PointCloud(points)\n",
    "        \n",
    "        # 生成目标框（boxes）: 每个框包含7个元素 [x, y, z, dx, dy, dz, heading] (6维框 + 1个分类标签)\n",
    "        num_boxes = np.random.randint(1, 4)  # 随机生成1到3个框\n",
    "        boxes = np.random.rand(num_boxes, 7).astype(np.float32)  # 每个框 [x, y, z, dx, dy, dz, heading]\n",
    "        \n",
    "        # 生成目标labels: Vehicle, Pedestrian, Cyclist\n",
    "        labels = np.random.randint(0, 3, size=(num_boxes,))  # 0: Vehicle, 1: Pedestrian, 2: Cyclist\n",
    "        \n",
    "        # 生成scores（预测框的置信度）\n",
    "        # scores = np.random.rand(num_boxes).astype(np.float32)\n",
    "        \n",
    "        # 将boxes和labels合并为模型输出的形式\n",
    "        final_box_dicts = {\n",
    "            'gt_boxes': torch.tensor(boxes),\n",
    "            'gt_labels': torch.tensor(labels),\n",
    "            # 'pred_scores': torch.tensor(scores)\n",
    "        }\n",
    "        \n",
    "        # 返回点云数据以及对应的gt信息\n",
    "        return pc, final_box_dicts"
   ]
  },
  {
   "cell_type": "code",
   "execution_count": 3,
   "metadata": {},
   "outputs": [],
   "source": [
    "dataset = DummyPointCloudDataset(num_samples=1000)"
   ]
  },
  {
   "cell_type": "code",
   "execution_count": 4,
   "metadata": {},
   "outputs": [],
   "source": [
    "# collect function\n",
    "def myfunc(batch_data):\n",
    "    '''\n",
    "    batch_data: Nx2\n",
    "    '''\n",
    "    resData = []\n",
    "    resLabel = []\n",
    "    for i in batch_data:\n",
    "        resData.append(i[0].points)\n",
    "        resLabel.append(i[1])\n",
    "    resData = np.array(resData)\n",
    "    # resLabel = np.array(resLabel)\n",
    "    return torch.tensor(resData,dtype=torch.float),resLabel\n",
    "    \n",
    "# 划分训练集和测试集\n",
    "train_size = int(len(dataset) * 0.8)\n",
    "test_size = len(dataset) - train_size\n",
    "train_dataset, test_dataset = torch.utils.data.random_split(dataset, [train_size, test_size])\n",
    "\n",
    "\n",
    "# Dataloader\n",
    "trainloader = DataLoader(train_dataset, batch_size=32,shuffle=True,collate_fn=myfunc,drop_last=True)\n",
    "\n",
    "testloader = DataLoader(test_dataset, batch_size=32,shuffle=True,collate_fn=myfunc,drop_last=True)"
   ]
  },
  {
   "cell_type": "code",
   "execution_count": 5,
   "metadata": {},
   "outputs": [],
   "source": [
    "pc,gt = dataset[0]"
   ]
  },
  {
   "cell_type": "code",
   "execution_count": 6,
   "metadata": {},
   "outputs": [
    {
     "data": {
      "text/plain": [
       "(array([[0.7901998 , 0.34698248, 0.6846077 , 0.13670315],\n",
       "        [0.42195234, 0.73787856, 0.14577417, 0.62523973],\n",
       "        [0.8697555 , 0.9963083 , 0.23345533, 0.37873486],\n",
       "        ...,\n",
       "        [0.40082225, 0.8219846 , 0.4352875 , 0.41617623],\n",
       "        [0.15004998, 0.32496294, 0.2700084 , 0.17962174],\n",
       "        [0.08487051, 0.86554825, 0.89977574, 0.41413808]], dtype=float32),\n",
       " (10000, 4))"
      ]
     },
     "execution_count": 6,
     "metadata": {},
     "output_type": "execute_result"
    }
   ],
   "source": [
    "pc.points,pc.points.shape"
   ]
  },
  {
   "cell_type": "code",
   "execution_count": 7,
   "metadata": {},
   "outputs": [
    {
     "data": {
      "text/plain": [
       "{'gt_boxes': tensor([[0.9191, 0.0458, 0.5771, 0.1287, 0.1028, 0.2372, 0.7943],\n",
       "         [0.0083, 0.6910, 0.3120, 0.7608, 0.2222, 0.5067, 0.6568]]),\n",
       " 'gt_labels': tensor([2, 1])}"
      ]
     },
     "execution_count": 7,
     "metadata": {},
     "output_type": "execute_result"
    }
   ],
   "source": [
    "gt"
   ]
  },
  {
   "cell_type": "markdown",
   "metadata": {},
   "source": [
    "可以看到dataset中每个data的input为一帧点云 (N,4), gt为boxes,labels,scores"
   ]
  },
  {
   "cell_type": "code",
   "execution_count": 8,
   "metadata": {},
   "outputs": [
    {
     "name": "stdout",
     "output_type": "stream",
     "text": [
      "<class 'torch.Tensor'>\n",
      "<class 'list'>\n",
      "torch.Size([32, 10000, 4])\n",
      "32\n",
      "{'gt_boxes': tensor([[0.6827, 0.0780, 0.6565, 0.8463, 0.3140, 0.7587, 0.2996],\n",
      "        [0.0463, 0.5335, 0.0498, 0.6002, 0.0024, 0.1941, 0.5001]]),\n",
      " 'gt_labels': tensor([1, 2])}\n",
      "<class 'torch.Tensor'>\n"
     ]
    }
   ],
   "source": [
    "for i in trainloader:\n",
    "    in_, out_ = i\n",
    "    print(type(in_))\n",
    "    print(type(out_))\n",
    "    print(in_.size())\n",
    "    print(len(out_))\n",
    "    pprint(out_[0])\n",
    "    print(type(out_[0]['gt_boxes']))\n",
    "    break"
   ]
  },
  {
   "cell_type": "markdown",
   "metadata": {},
   "source": [
    "# 2. 定义一个简单的Toy模型，使用提供的CenterPointModel作为输出\n"
   ]
  },
  {
   "cell_type": "code",
   "execution_count": 9,
   "metadata": {},
   "outputs": [],
   "source": [
    "class ToyModel(nn.Module):\n",
    "    def __init__(self):\n",
    "        super(ToyModel, self).__init__()\n",
    "        # 使用预训练模型（例如 CenterPointModel）\n",
    "        self.centerpoint_model = CenterPointModel()\n",
    "\n",
    "    def forward(self, x):\n",
    "        temp = dict(\n",
    "            batch_size=1,\n",
    "            points=x\n",
    "        )\n",
    "        return self.centerpoint_model.forward(temp)"
   ]
  },
  {
   "cell_type": "code",
   "execution_count": 10,
   "metadata": {},
   "outputs": [
    {
     "data": {
      "text/plain": [
       "=========================================================================================================\n",
       "Layer (type:depth-idx)                                  Output Shape              Param #\n",
       "=========================================================================================================\n",
       "ToyModel                                                [24, 7]                   --\n",
       "├─LD_base: 1-1                                          --                        --\n",
       "│    └─BoolMap: 2-1                                     [1, 30, 448, 1120]        --\n",
       "│    └─ResBEVBackboneConcat: 2-2                        [1, 128, 448, 1120]       --\n",
       "│    │    └─ModuleList: 3-9                             --                        (recursive)\n",
       "│    │    └─ModuleList: 3-10                            --                        --\n",
       "│    │    └─ModuleList: 3-9                             --                        (recursive)\n",
       "│    │    └─ModuleList: 3-10                            --                        --\n",
       "│    │    └─ModuleList: 3-9                             --                        (recursive)\n",
       "│    │    └─ModuleList: 3-10                            --                        --\n",
       "│    │    └─ModuleList: 3-9                             --                        (recursive)\n",
       "│    │    └─ModuleList: 3-10                            --                        --\n",
       "│    │    └─ModuleList: 3-9                             --                        (recursive)\n",
       "│    │    └─ModuleList: 3-10                            --                        --\n",
       "│    │    └─Sequential: 3-11                            [1, 128, 448, 1120]       47,360\n",
       "│    │    └─Sequential: 3-12                            [1, 128, 448, 1120]       16,640\n",
       "│    └─CenterHead: 2-3                                  [24, 7]                   --\n",
       "│    │    └─Sequential: 3-13                            [1, 64, 448, 1120]        73,920\n",
       "│    │    └─ModuleList: 3-14                            --                        6,347\n",
       "=========================================================================================================\n",
       "Total params: 1,239,339\n",
       "Trainable params: 1,239,339\n",
       "Non-trainable params: 0\n",
       "Total mult-adds (G): 80.21\n",
       "=========================================================================================================\n",
       "Input size (MB): 0.00\n",
       "Forward/backward pass size (MB): 3348.75\n",
       "Params size (MB): 4.96\n",
       "Estimated Total Size (MB): 3353.70\n",
       "========================================================================================================="
      ]
     },
     "execution_count": 10,
     "metadata": {},
     "output_type": "execute_result"
    }
   ],
   "source": [
    "summary(ToyModel(),input_size=(10, 4))"
   ]
  },
  {
   "cell_type": "markdown",
   "metadata": {},
   "source": [
    "# 3. 定义损失函数"
   ]
  },
  {
   "cell_type": "code",
   "execution_count": 11,
   "metadata": {},
   "outputs": [],
   "source": [
    "def compute_loss(pred_dicts, gt_dicts):\n",
    "    \"\"\"\n",
    "    计算框的损失（回归损失）和分类损失\n",
    "    pred_dicts: 模型的输出\n",
    "    gt_dicts: ground truth\n",
    "    \"\"\"\n",
    "    box_loss = 0.0\n",
    "    cls_loss = 0.0\n",
    "    num_boxes = len(pred_dicts[0]['pred_boxes'])  # 假设每个batch只有1个frame\n",
    "    \n",
    "    pred_boxes = pred_dicts[0]['pred_boxes']\n",
    "    pred_labels = pred_dicts[0]['pred_labels']\n",
    "    pred_scores = pred_dicts[0]['pred_scores']\n",
    "    \n",
    "    gt_boxes = gt_dicts[0]['gt_boxes']\n",
    "    gt_labels = gt_dicts[0]['gt_labels']\n",
    "    \n",
    "    # 计算回归损失 (L1 loss)\n",
    "    for i in range(num_boxes):\n",
    "        pred_box = pred_boxes[i]\n",
    "        for j in range(len(gt_boxes)):\n",
    "            gt_box = gt_boxes[j]\n",
    "            box_loss += torch.sum(torch.abs(pred_box - gt_box))  # L1 loss\n",
    "    \n",
    "    # 计算分类损失\n",
    "    cls_loss = nn.CrossEntropyLoss()(pred_labels, gt_labels)\n",
    "    \n",
    "    return box_loss + cls_loss"
   ]
  },
  {
   "cell_type": "code",
   "execution_count": 12,
   "metadata": {},
   "outputs": [],
   "source": [
    "CELoss = nn.CrossEntropyLoss()"
   ]
  },
  {
   "cell_type": "code",
   "execution_count": 16,
   "metadata": {},
   "outputs": [
    {
     "data": {
      "text/plain": [
       "tensor(0.4938)"
      ]
     },
     "execution_count": 16,
     "metadata": {},
     "output_type": "execute_result"
    }
   ],
   "source": [
    "temp_loss = CELoss(torch.tensor([[3, 1, 1,2]],dtype=torch.float32),torch.tensor([0],dtype=torch.long))\n",
    "temp_loss"
   ]
  },
  {
   "cell_type": "code",
   "execution_count": 18,
   "metadata": {},
   "outputs": [
    {
     "data": {
      "text/plain": [
       "False"
      ]
     },
     "execution_count": 18,
     "metadata": {},
     "output_type": "execute_result"
    }
   ],
   "source": [
    "temp_loss.requires_grad"
   ]
  },
  {
   "cell_type": "markdown",
   "metadata": {},
   "source": [
    "# 4. 训练流程"
   ]
  },
  {
   "cell_type": "code",
   "execution_count": 14,
   "metadata": {},
   "outputs": [],
   "source": [
    "num_samples = 100\n",
    "batch_size = 4\n",
    "dataset = DummyPointCloudDataset(num_samples=num_samples)\n",
    "\n",
    "# 划分训练集和测试集\n",
    "train_size = int(len(dataset) * 0.8)\n",
    "test_size = len(dataset) - train_size\n",
    "train_dataset, test_dataset = torch.utils.data.random_split(dataset, [train_size, test_size])\n",
    "\n",
    "\n",
    "# Dataloader\n",
    "trainloader = DataLoader(train_dataset, batch_size=32,shuffle=True,collate_fn=myfunc,drop_last=True)\n",
    "\n",
    "testloader = DataLoader(test_dataset, batch_size=32,shuffle=True,collate_fn=myfunc,drop_last=True)"
   ]
  },
  {
   "cell_type": "code",
   "execution_count": 20,
   "metadata": {},
   "outputs": [
    {
     "name": "stdout",
     "output_type": "stream",
     "text": [
      "<class 'list'>\n",
      "<class 'dict'>\n",
      "True\n",
      "{'pred_boxes': tensor([[ 2.0887e+00,  1.3918e+00,  2.5717e+00,  2.8909e+01,  1.4069e+03,\n",
      "          6.0850e+00,  9.7034e-01],\n",
      "        [ 3.8051e+00, -2.0893e+00,  3.9188e+00,  7.4553e+03,  1.2600e+03,\n",
      "          4.4188e+04,  2.1101e+00],\n",
      "        [ 5.1828e+00, -6.0257e+00,  2.5024e+00,  1.3809e+02,  2.0294e-06,\n",
      "          5.8427e-03,  1.2547e+00],\n",
      "        [ 1.3964e+01,  4.7740e+00, -1.4441e+00,  2.0946e-04,  1.7454e+00,\n",
      "          6.9788e-05,  1.2425e+00],\n",
      "        [ 5.8305e+00, -6.9399e+00,  1.9456e+00,  1.0143e+04,  3.5738e-06,\n",
      "          4.5877e-01,  1.2364e+00],\n",
      "        [ 8.0057e-01, -1.0993e+01,  1.6278e+00,  2.0919e+32,  1.2613e+16,\n",
      "          4.0584e+18,  1.2269e+00],\n",
      "        [ 2.3284e+00, -3.0907e+00, -7.1253e-01,  8.2326e+01,  4.8963e+02,\n",
      "          4.2024e+05,  1.5845e+00],\n",
      "        [ 8.5516e-02, -4.9989e+00,  2.3617e-01,  3.3218e-01,  5.5053e-04,\n",
      "          8.9094e+00,  2.7714e+00],\n",
      "        [ 8.0948e+00, -6.6940e+00,  3.7929e+00,  2.9757e+05,  2.8290e-04,\n",
      "          2.3072e-01,  1.3504e+00],\n",
      "        [ 6.9615e+00, -6.7484e+00,  3.1034e+00,  8.4952e+05,  6.4679e-06,\n",
      "          1.0350e-01,  1.3791e+00],\n",
      "        [ 8.3212e+00,  7.1575e+00,  5.9859e-01,  5.8415e-17,  4.8270e-23,\n",
      "          1.8994e+09,  1.8127e+00],\n",
      "        [ 2.9414e+00,  1.7987e+00, -1.1305e+00,  1.9396e+05,  3.7298e+02,\n",
      "          2.7150e+04,  1.5556e+00],\n",
      "        [ 1.3789e+01,  4.7622e+00, -6.0544e-01,  3.3440e-04,  7.4221e-01,\n",
      "          6.4259e-04,  1.1059e+00],\n",
      "        [ 9.7380e-01, -4.8286e+00, -1.3615e-01,  1.2133e-01,  1.6397e-03,\n",
      "          1.9536e+00,  2.8435e+00],\n",
      "        [ 1.2063e+00, -3.4496e+00, -9.6825e-01,  1.2403e-06,  1.5769e-05,\n",
      "          1.5357e+03, -2.4750e+00],\n",
      "        [ 5.9665e+00, -3.3949e-01,  2.4552e+00,  3.9002e+06,  1.4669e+02,\n",
      "          1.9293e+09,  1.1341e+00],\n",
      "        [ 1.6470e+00, -3.1815e+00,  1.4060e+00,  3.4823e-04,  7.5447e-04,\n",
      "          9.3941e+00, -2.3062e+00],\n",
      "        [ 2.6086e-01, -5.3261e+00,  2.1403e+00,  1.2253e+00,  4.1399e-03,\n",
      "          7.6028e-03,  1.8512e+00],\n",
      "        [ 7.5192e-01, -6.5640e+00,  3.5707e+00,  2.6539e+00,  6.5537e-04,\n",
      "          7.0843e-05,  1.2722e+00],\n",
      "        [ 1.3874e+01,  5.0660e+00, -5.8536e-01,  1.2850e-04,  4.2546e+00,\n",
      "          9.6286e-04,  1.5561e+00],\n",
      "        [ 4.7769e+00,  1.9255e+00, -5.2212e-01,  3.0025e+00,  2.5727e+00,\n",
      "          2.1880e-01,  1.8850e+00],\n",
      "        [ 1.3463e+01,  4.9065e+00, -3.4072e-01,  3.0216e-04,  6.0015e-01,\n",
      "          4.6600e-03,  9.5006e-01],\n",
      "        [ 1.0152e+00, -4.2002e+00, -1.5072e+00,  1.7302e-06,  1.3091e-03,\n",
      "          1.9742e+03, -2.6923e+00],\n",
      "        [ 1.2891e+01,  4.6598e+00, -1.0348e+00,  7.6390e-04,  6.2675e-01,\n",
      "          1.7509e-03,  5.9043e-01],\n",
      "        [ 1.5289e+00,  3.4408e-01,  1.3568e+00,  2.9626e+02,  1.7233e+03,\n",
      "          3.0210e+01,  1.1517e+00],\n",
      "        [ 1.2627e+01,  4.4465e+00, -1.5940e+00,  3.6540e-03,  7.3642e-01,\n",
      "          4.9378e-04,  5.8744e-01],\n",
      "        [ 1.3791e+01,  4.8675e+00,  9.1694e-01,  1.9450e-04,  2.7873e+00,\n",
      "          3.6310e-03,  1.4776e+00],\n",
      "        [ 1.0511e+01,  4.8700e+00,  3.8125e+00,  9.5239e-02,  8.1617e-04,\n",
      "          2.3786e-02,  1.5083e-01]], device='cuda:0', grad_fn=<CatBackward>),\n",
      " 'pred_labels': tensor([2, 1, 2, 2, 2, 2, 2, 2, 2, 2, 2, 2, 2, 2, 2, 3, 2, 2, 2, 2, 2, 2, 2, 2,\n",
      "        2, 2, 2, 2], device='cuda:0'),\n",
      " 'pred_scores': tensor([1.0000, 1.0000, 1.0000, 1.0000, 1.0000, 1.0000, 1.0000, 1.0000, 1.0000,\n",
      "        1.0000, 1.0000, 1.0000, 1.0000, 1.0000, 1.0000, 1.0000, 1.0000, 1.0000,\n",
      "        1.0000, 1.0000, 1.0000, 1.0000, 1.0000, 1.0000, 1.0000, 1.0000, 1.0000,\n",
      "        1.0000], device='cuda:0', grad_fn=<CatBackward>)}\n",
      "{'gt_boxes': tensor([[0.6727, 0.6327, 0.9096, 0.0187, 0.4958, 0.1392, 0.7250],\n",
      "        [0.7499, 0.3228, 0.4417, 0.3604, 0.4889, 0.0420, 0.3966],\n",
      "        [0.8159, 0.2671, 0.1217, 0.8350, 0.1626, 0.2631, 0.1161]],\n",
      "       device='cuda:0'),\n",
      " 'gt_labels': tensor([1., 2., 1.], device='cuda:0')}\n",
      "Epoch [1/1], Average Loss: 0.0000\n"
     ]
    }
   ],
   "source": [
    "model = ToyModel().cuda()\n",
    "optimizer = optim.Adam(model.parameters(), lr=1e-3)\n",
    "\n",
    "num_epochs = 1\n",
    "\n",
    "\n",
    "for epoch in range(num_epochs):\n",
    "    model.train()  # 设置为训练模式\n",
    "    running_loss = 0.0\n",
    "    \n",
    "    for i, (pointclouds, gt_dicts) in enumerate(trainloader):\n",
    "\n",
    "        pointclouds = pointclouds.float().cuda()  # 将点云数据移到GPU\n",
    "        gt_dicts = move_to_gpu(gt_dicts)          # 将gt数据移到GPU\n",
    "        \n",
    "        optimizer.zero_grad()  # 清除梯度\n",
    "        \n",
    "        # 进行前向传播\n",
    "        pred_dicts = model(pointclouds)\n",
    "\n",
    "        pprint(type(pred_dicts))\n",
    "        pprint(type(pred_dicts[0]))\n",
    "        print(pred_dicts[0]['pred_boxes'].requires_grad)\n",
    "        pprint(pred_dicts[0])\n",
    "        pprint(gt_dicts[0])\n",
    "\n",
    "        break\n",
    "        \n",
    "        # 计算损失\n",
    "        # loss = compute_loss(pred_dicts, gt_dicts)\n",
    "        \n",
    "        # loss.backward()  # 反向传播\n",
    "        # optimizer.step()  # 更新参数\n",
    "        \n",
    "        # running_loss += loss.item()\n",
    "        \n",
    "        # if (i + 1) % 10 == 0:  # 每10个batch打印一次\n",
    "        #     print(f\"Epoch [{epoch + 1}/{num_epochs}], Step [{i + 1}/{len(dataloader)}], Loss: {running_loss / (i + 1):.4f}\")\n",
    "    \n",
    "    print(f\"Epoch [{epoch + 1}/{num_epochs}], Average Loss: {running_loss / len(trainloader):.4f}\")"
   ]
  }
 ],
 "metadata": {
  "kernelspec": {
   "display_name": "base",
   "language": "python",
   "name": "python3"
  },
  "language_info": {
   "codemirror_mode": {
    "name": "ipython",
    "version": 3
   },
   "file_extension": ".py",
   "mimetype": "text/x-python",
   "name": "python",
   "nbconvert_exporter": "python",
   "pygments_lexer": "ipython3",
   "version": "3.8.8"
  }
 },
 "nbformat": 4,
 "nbformat_minor": 4
}
